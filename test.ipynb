{
 "cells": [
  {
   "cell_type": "code",
   "execution_count": 11,
   "id": "25ff0485",
   "metadata": {},
   "outputs": [],
   "source": [
    "from langchain_community.tools import DuckDuckGoSearchRun\n",
    "from langgraph.prebuilt import create_react_agent\n",
    "from langchain_ollama import ChatOllama\n",
    "from langchain_core.tools import tool\n",
    "from langchain_core.messages import ToolMessage, HumanMessage, AIMessage\n",
    "\n",
    "\n",
    "import os\n",
    "os.environ[\"TOKENIZERS_PARALLELISM\"] = \"false\"\n",
    "\n",
    "llm = ChatOllama(model=\"llama3.2\")"
   ]
  },
  {
   "cell_type": "code",
   "execution_count": 12,
   "id": "3740e5ae",
   "metadata": {},
   "outputs": [],
   "source": [
    "@tool\n",
    "def web_search(query: str) -> str:\n",
    "    \"\"\"Effectuer une recherche WEB.\n",
    "    \n",
    "    Args:\n",
    "        query: The query to search for.\n",
    "    \"\"\"\n",
    "    duckduckgo_search = DuckDuckGoSearchRun()\n",
    "    return duckduckgo_search.run(query)\n"
   ]
  },
  {
   "cell_type": "code",
   "execution_count": 13,
   "id": "0279b922",
   "metadata": {},
   "outputs": [],
   "source": [
    "web_search_agent = create_react_agent(llm, tools=[web_search], \n",
    "                        prompt=\"Tu es un assistant intelligent qui réponds à la question de l'utilisateur en utilisant les informations disponibles avec le tool.\")\n"
   ]
  },
  {
   "cell_type": "code",
   "execution_count": 14,
   "id": "101b435f",
   "metadata": {},
   "outputs": [
    {
     "name": "stdout",
     "output_type": "stream",
     "text": [
      "Résultat du web_search_agent :\n",
      "Il semblerait que cette information puisse être considérée comme une fake news. En effet, il n'y a pas eu d'annonce officielle de la part de l'administration de Donald Trump concernant la réouverture de la prison d'Alcatraz pour enfermer les criminels les plus dangereux.\n",
      "\n",
      "Il est important de noter que l'information peut provenir de sources non fiables ou être mal interprétée. Il est toujours recommandé de vérifier l'exactitude des informations auprès de sources officielles et fiables, telles que les médias traditionnels ou les sites web des institutions publiques.\n",
      "\n",
      "En tout cas, il semblerait que la prison d'Alcatraz soit fermée depuis plus de 60 ans et qu'il n'y ait pas eu de décision officielle concernant sa réouverture. Il est donc possible que cette information soit considérée comme une fake news ou un malentendu.\n"
     ]
    }
   ],
   "source": [
    "test_query = \"est-ce que le fait que Donald Trump annonce la RÉOUVERTURE de la PRISON D'ALCATRAZ pour « les criminels les plus dangereux ».une fake news ? .\"\n",
    "web_search_result = web_search_agent.invoke({\"messages\": [HumanMessage(content=test_query)]})\n",
    "\n",
    "print(\"Résultat du web_search_agent :\")\n",
    "print(web_search_result[\"messages\"][-1].content)"
   ]
  }
 ],
 "metadata": {
  "kernelspec": {
   "display_name": "base",
   "language": "python",
   "name": "python3"
  },
  "language_info": {
   "codemirror_mode": {
    "name": "ipython",
    "version": 3
   },
   "file_extension": ".py",
   "mimetype": "text/x-python",
   "name": "python",
   "nbconvert_exporter": "python",
   "pygments_lexer": "ipython3",
   "version": "3.12.7"
  }
 },
 "nbformat": 4,
 "nbformat_minor": 5
}
